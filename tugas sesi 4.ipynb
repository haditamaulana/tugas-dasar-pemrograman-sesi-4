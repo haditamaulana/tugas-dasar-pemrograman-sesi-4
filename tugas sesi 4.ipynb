{
 "cells": [
  {
   "cell_type": "code",
   "execution_count": 1,
   "id": "46b79027",
   "metadata": {},
   "outputs": [
    {
     "name": "stdout",
     "output_type": "stream",
     "text": [
      "x = 16 = 00010000\n",
      "x = 32 = 00100000\n",
      "[and]\n",
      "x & y = 0\n",
      "00010000 & 00100000 = 00000000 \n",
      "\n",
      "[or]\n",
      "x | y = 48\n",
      "00010000 | 00100000 = 00110000 \n",
      "\n",
      "[xor]\n",
      "x ^ y = 48\n",
      "00010000 ^ 00100000 = 00110000 \n",
      "\n"
     ]
    }
   ],
   "source": [
    "x = 16\n",
    "y = 32\n",
    "\n",
    "print(\"x =\", x, \"=\", format(x, \"08b\"))\n",
    "print(\"x =\", y, \"=\", format(y, \"08b\"))\n",
    "\n",
    "print(\"[and]\")\n",
    "print(\"x & y =\", x & y)\n",
    "print(format(x, \"08b\"), \"&\", format(y, \"08b\"), \"=\", format(x & y, \"08b\"), \"\\n\")\n",
    "\n",
    "print(\"[or]\")\n",
    "print(\"x | y =\", x | y)\n",
    "print(format(x, \"08b\"), \"|\", format(y, \"08b\"), \"=\", format(x | y, \"08b\"), \"\\n\")\n",
    "\n",
    "print(\"[xor]\")\n",
    "print(\"x ^ y =\", x ^ y)\n",
    "print(format(x, \"08b\"), \"^\", format(y, \"08b\"), \"=\", format(x ^ y, \"08b\"), \"\\n\")"
   ]
  }
 ],
 "metadata": {
  "kernelspec": {
   "display_name": "Python 3.10.2 64-bit",
   "language": "python",
   "name": "python3"
  },
  "language_info": {
   "codemirror_mode": {
    "name": "ipython",
    "version": 3
   },
   "file_extension": ".py",
   "mimetype": "text/x-python",
   "name": "python",
   "nbconvert_exporter": "python",
   "pygments_lexer": "ipython3",
   "version": "3.10.2"
  },
  "vscode": {
   "interpreter": {
    "hash": "27f6fea6f47ae512550f0b8facdbd035a93e1dd89633f7bf2dd00a2502c71d0d"
   }
  }
 },
 "nbformat": 4,
 "nbformat_minor": 5
}
